{
 "cells": [
  {
   "cell_type": "code",
   "execution_count": 53,
   "metadata": {
    "collapsed": true
   },
   "outputs": [],
   "source": [
    "import pandas as pd\n",
    "import numpy as np\n",
    "import matplotlib.pyplot as plt\n",
    "from numpy import arange\n",
    "import sympy\n",
    "from sympy import oo"
   ]
  },
  {
   "cell_type": "code",
   "execution_count": 54,
   "outputs": [],
   "source": [
    "x_symbol = sympy.Symbol('x')"
   ],
   "metadata": {
    "collapsed": false
   }
  },
  {
   "cell_type": "code",
   "execution_count": 55,
   "outputs": [],
   "source": [
    "def create_polynomial(params):\n",
    "    '''\n",
    "    Creates a polynomial function with the specified parameters as a sympy function object. Note that params[0] is the y-intercept. The order of the polynomial is given by the length of the parameters vector.\n",
    "    f(x) = sum from i = 0 to n (theta_i * x^i); where n = len(params) - 1\n",
    "    :param params: vector of parameters\n",
    "    :return: sympy function object\n",
    "    '''\n",
    "    f = 0\n",
    "    for i,theta in enumerate(params):\n",
    "        f += theta * x_symbol**i\n",
    "    return f\n",
    "\n",
    "def eval(f, x):\n",
    "    '''\n",
    "    Evaluates a sympy function object at the specified x - value.\n",
    "    :param f: sympy function object\n",
    "    :param x: x - value\n",
    "    :return: y - value\n",
    "    '''\n",
    "    f_lambdify = sympy.lambdify(x_symbol, f, 'numpy')\n",
    "    return f_lambdify(x)\n"
   ],
   "metadata": {
    "collapsed": false
   }
  },
  {
   "cell_type": "code",
   "execution_count": 56,
   "outputs": [],
   "source": [
    "def spline_objective_function(x, y, r, lambda_):\n",
    "    '''\n",
    "    Mean squared error with added penalty, favors curves with a lower average curvature.\n",
    "    Mathematical formula:\n",
    "    L(r, theta) = 1/n * sum from i = 1 to n ((y_i - f(x_i))^2) + theta* integral over all x (dx(r''(x))^2)\n",
    "     In words: mean squared error + lambda * measure of curvature of m over all x\n",
    "    Note: The sign of m''(x) indicates whether m(x) is concave/convex, we square it to just measure how curved m is at x.\n",
    "    :param x: vector of x - values\n",
    "    :param y: vector of corresponding y - values\n",
    "    :param r: function of a curve/ spline which attempts to approximate the relationship between x and y\n",
    "    :param theta: weight of the curvature penalty\n",
    "    :return:\n",
    "    '''\n",
    "    y_hat = eval(r, x)\n",
    "    m = len(x)\n",
    "    mse = 1/m * np.sum((y - y_hat)**2)\n",
    "    drdx = sympy.diff(r, x_symbol)\n",
    "    drdx2 = sympy.diff(drdx, x_symbol)\n",
    "    curvature = (drdx2)**2\n",
    "    # sympy.oo represents infinity\n",
    "    curvature_integral = sympy.integrate(curvature, (x_symbol, np.min(x), np.max(x)))\n",
    "    L = mse + lambda_ * curvature_integral\n",
    "\n",
    "    return L"
   ],
   "metadata": {
    "collapsed": false
   }
  },
  {
   "cell_type": "code",
   "execution_count": 87,
   "outputs": [],
   "source": [
    "def ReLu(f):\n",
    "    '''\n",
    "    Rectified Linear Unit function on sympy function object f\n",
    "            / a, if a > 0\n",
    "    a_+ =  |\n",
    "           \\ 0, otherwise\n",
    "    :param f: sympy function object\n",
    "    :return: a+\n",
    "    '''\n",
    "    return sympy.Max(f, 0)"
   ],
   "metadata": {
    "collapsed": false
   }
  },
  {
   "cell_type": "code",
   "execution_count": 82,
   "outputs": [],
   "source": [
    "def smoothening_spline(x,y):\n",
    "    '''\n",
    "    Splines are piecewise cubic polynomials. Following the formula.\n",
    "    We define a cubic polynomial in between each of the knots (x_j,x_j+1). And one cubic polynomial outside of the knots(-oo to x_0 and x_m to oo).\n",
    "    r(x) = sum from j = 0 to n = 3 (beta_j * B_j(x))\n",
    "    where B_j(x) is the jth base function. A common choice is\n",
    "    B_1(x) = 1\n",
    "    B_2(x) = x\n",
    "            / a, if a > 0\n",
    "    a_+ =  |\n",
    "           \\ 0, otherwise\n",
    "                (x-x_i)_+^3 - (x-x_m)_+^3       (x-x_(m-1))_+^3 - (x-x_m)_+^3\n",
    "    B_i+2(x) =  ------------------------- minus ---------------------------\n",
    "                        x_m - x_i                         x_m - x_(m-1)\n",
    "    :param x: a vector of x in increasing order, also called the 'knots' of the spline\n",
    "    :return:\n",
    "    '''\n",
    "    # check if x is in increasing order:\n",
    "    increasing = all(x[i] <= x[i+1] for i in range(len(x)-1))\n",
    "    if not increasing:\n",
    "        # sort x in increasing order\n",
    "        x = np.sort(x)\n",
    "\n",
    "    m = len(x)\n",
    "    basis_functions = []\n",
    "    B_matrix = np.zeros((4,m))\n",
    "    # this basis function has the property that the second and third derivatives of each Bj are zero outside the interval (x1, xn). Therefore they are indicator functions as to whether each x in the interval (x1, xn) is in the interval (xj, xj+1) or not.\n",
    "    for i in range(4):\n",
    "        if i == 0:\n",
    "            basis_functions.append(x_symbol**0)\n",
    "        elif i == 1:\n",
    "            basis_functions.append(x_symbol**1)\n",
    "        elif i == 2 or i == 3:\n",
    "            part_1 = (ReLu(x_symbol - x[i-2]) ** 3 - ReLu(x_symbol - x[m-1]) ** 3)/(x[m-1] - x[i-2])\n",
    "            part_2 = (ReLu(x_symbol - x[m-2]) ** 3 - ReLu(x_symbol - x[m-1]) ** 3)/(x[m-1] - x[m-2])\n",
    "            B_j = part_1 - part_2\n",
    "            basis_functions.append(B_j)\n",
    "        basis_functions.append(x_symbol ** i)\n",
    "        B_matrix[i] = eval(basis_functions[i],x)\n",
    "    BTB = np.dot(B_matrix.T,B_matrix)\n",
    "    BTB_inv = np.linalg.inv(BTB)\n",
    "    BTB_invBT = np.dot(BTB_inv,B_matrix.T)\n",
    "    # This performs an Ordinary Least Squares (OLS) with B in place of x:\n",
    "    # beta_hat = (BT*B)-1 * BT * y\n",
    "    beta_hat = np.dot(BTB_invBT,y)\n",
    "\n",
    "    # TODO: continue at formula 15 on page 11 of Lecture 11: Splines\n",
    "    # TODO: implement spline objective function\n",
    "    # TODO: implement curvature matrix omega\n",
    "    # TODO: find smoothening spline by differentiating with respect to beta and setting to zero\n",
    "    # mathemagic... (write down formula derivation)\n",
    "    # only implement beta_hat = (this is the optimal beta_hat)\n",
    "    return B_matrix"
   ],
   "metadata": {
    "collapsed": false
   }
  },
  {
   "cell_type": "code",
   "execution_count": 73,
   "outputs": [
    {
     "data": {
      "text/plain": "<Figure size 640x480 with 1 Axes>",
      "image/png": "[encoded data removed]"
     },
     "metadata": {},
     "output_type": "display_data"
    }
   ],
   "source": [
    "# initialize x as a range of numbers from -10 to 10\n",
    "x = arange(-10, 10, 0.1)\n",
    "f =  6 * sympy.cos(3/7*x_symbol+1/9) + sympy.sin(3*x_symbol+2.167) + 1/2 * x_symbol\n",
    "y = eval(f,x)\n",
    "\n",
    "# scatterplot\n",
    "plt.scatter(x, y, alpha=0.8, s=3)\n",
    "plt.show()"
   ],
   "metadata": {
    "collapsed": false
   }
  },
  {
   "cell_type": "code",
   "execution_count": 58,
   "outputs": [
    {
     "data": {
      "text/plain": "2364.35879999997",
      "text/latex": "$\\displaystyle 2364.35879999997$"
     },
     "execution_count": 58,
     "metadata": {},
     "output_type": "execute_result"
    }
   ],
   "source": [
    "L = spline_objective_function(x,y,m,0.1)\n",
    "L"
   ],
   "metadata": {
    "collapsed": false
   }
  },
  {
   "cell_type": "code",
   "execution_count": 83,
   "outputs": [],
   "source": [
    "B=basis_function(x)"
   ],
   "metadata": {
    "collapsed": false
   }
  },
  {
   "cell_type": "code",
   "execution_count": null,
   "outputs": [],
   "source": [],
   "metadata": {
    "collapsed": false
   }
  }
 ],
 "metadata": {
  "kernelspec": {
   "display_name": "Python 3",
   "language": "python",
   "name": "python3"
  },
  "language_info": {
   "codemirror_mode": {
    "name": "ipython",
    "version": 2
   },
   "file_extension": ".py",
   "mimetype": "text/x-python",
   "name": "python",
   "nbconvert_exporter": "python",
   "pygments_lexer": "ipython2",
   "version": "2.7.6"
  }
 },
 "nbformat": 4,
 "nbformat_minor": 0
}
